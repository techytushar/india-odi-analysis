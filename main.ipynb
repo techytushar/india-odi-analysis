{
 "cells": [
  {
   "cell_type": "markdown",
   "metadata": {},
   "source": [
    "# India ODI Matches Analysis\n",
    "The data used in this analysis is taken from [Kaggle](https://www.kaggle.com/jaykay12/odi-cricket-matches-19712017), the correctness of data is not guaranteed, this is just some fun analysis for education purpose."
   ]
  },
  {
   "cell_type": "code",
   "execution_count": 133,
   "metadata": {
    "ExecuteTime": {
     "end_time": "2019-06-07T17:12:36.593400Z",
     "start_time": "2019-06-07T17:12:36.577254Z"
    }
   },
   "outputs": [],
   "source": [
    "#importing the modules\n",
    "import pandas as pd\n",
    "import numpy as np\n",
    "import matplotlib.pyplot as plt"
   ]
  },
  {
   "cell_type": "code",
   "execution_count": 134,
   "metadata": {
    "ExecuteTime": {
     "end_time": "2019-06-07T17:12:45.692688Z",
     "start_time": "2019-06-07T17:12:45.355124Z"
    },
    "collapsed": true
   },
   "outputs": [
    {
     "name": "stdout",
     "output_type": "stream",
     "text": [
      "(7494, 13)\n"
     ]
    },
    {
     "data": {
      "text/html": [
       "<div>\n",
       "<style scoped>\n",
       "    .dataframe tbody tr th:only-of-type {\n",
       "        vertical-align: middle;\n",
       "    }\n",
       "\n",
       "    .dataframe tbody tr th {\n",
       "        vertical-align: top;\n",
       "    }\n",
       "\n",
       "    .dataframe thead th {\n",
       "        text-align: right;\n",
       "    }\n",
       "</style>\n",
       "<table border=\"1\" class=\"dataframe\">\n",
       "  <thead>\n",
       "    <tr style=\"text-align: right;\">\n",
       "      <th></th>\n",
       "      <th>Unnamed: 0</th>\n",
       "      <th>Scorecard</th>\n",
       "      <th>Team 1</th>\n",
       "      <th>Team 2</th>\n",
       "      <th>Margin</th>\n",
       "      <th>Ground</th>\n",
       "      <th>Match Date</th>\n",
       "      <th>Winner</th>\n",
       "      <th>Host_Country</th>\n",
       "      <th>Venue_Team1</th>\n",
       "      <th>Venue_Team2</th>\n",
       "      <th>Innings_Team1</th>\n",
       "      <th>Innings_Team2</th>\n",
       "    </tr>\n",
       "  </thead>\n",
       "  <tbody>\n",
       "    <tr>\n",
       "      <th>0</th>\n",
       "      <td>0</td>\n",
       "      <td>ODI # 1</td>\n",
       "      <td>Australia</td>\n",
       "      <td>England</td>\n",
       "      <td>Winner2ndInning</td>\n",
       "      <td>Melbourne</td>\n",
       "      <td>Jan 5, 1971</td>\n",
       "      <td>Australia</td>\n",
       "      <td>Australia</td>\n",
       "      <td>Home</td>\n",
       "      <td>Away</td>\n",
       "      <td>Second</td>\n",
       "      <td>First</td>\n",
       "    </tr>\n",
       "    <tr>\n",
       "      <th>1</th>\n",
       "      <td>1</td>\n",
       "      <td>ODI # 2</td>\n",
       "      <td>England</td>\n",
       "      <td>Australia</td>\n",
       "      <td>Winner2ndInning</td>\n",
       "      <td>Manchester</td>\n",
       "      <td>Aug 24, 1972</td>\n",
       "      <td>England</td>\n",
       "      <td>England</td>\n",
       "      <td>Home</td>\n",
       "      <td>Away</td>\n",
       "      <td>Second</td>\n",
       "      <td>First</td>\n",
       "    </tr>\n",
       "    <tr>\n",
       "      <th>2</th>\n",
       "      <td>2</td>\n",
       "      <td>ODI # 3</td>\n",
       "      <td>England</td>\n",
       "      <td>Australia</td>\n",
       "      <td>Winner2ndInning</td>\n",
       "      <td>Lord's</td>\n",
       "      <td>Aug 26, 1972</td>\n",
       "      <td>Australia</td>\n",
       "      <td>England</td>\n",
       "      <td>Home</td>\n",
       "      <td>Away</td>\n",
       "      <td>First</td>\n",
       "      <td>Second</td>\n",
       "    </tr>\n",
       "    <tr>\n",
       "      <th>3</th>\n",
       "      <td>3</td>\n",
       "      <td>ODI # 4</td>\n",
       "      <td>England</td>\n",
       "      <td>Australia</td>\n",
       "      <td>Winner2ndInning</td>\n",
       "      <td>Birmingham</td>\n",
       "      <td>Aug 28, 1972</td>\n",
       "      <td>England</td>\n",
       "      <td>England</td>\n",
       "      <td>Home</td>\n",
       "      <td>Away</td>\n",
       "      <td>Second</td>\n",
       "      <td>First</td>\n",
       "    </tr>\n",
       "    <tr>\n",
       "      <th>4</th>\n",
       "      <td>4</td>\n",
       "      <td>ODI # 5</td>\n",
       "      <td>New Zealand</td>\n",
       "      <td>Pakistan</td>\n",
       "      <td>Winner1stInning</td>\n",
       "      <td>Christchurch</td>\n",
       "      <td>Feb 11, 1973</td>\n",
       "      <td>New Zealand</td>\n",
       "      <td>New Zealand</td>\n",
       "      <td>Home</td>\n",
       "      <td>Away</td>\n",
       "      <td>First</td>\n",
       "      <td>Second</td>\n",
       "    </tr>\n",
       "  </tbody>\n",
       "</table>\n",
       "</div>"
      ],
      "text/plain": [
       "   Unnamed: 0 Scorecard       Team 1     Team 2           Margin  \\\n",
       "0           0   ODI # 1    Australia    England  Winner2ndInning   \n",
       "1           1   ODI # 2      England  Australia  Winner2ndInning   \n",
       "2           2   ODI # 3      England  Australia  Winner2ndInning   \n",
       "3           3   ODI # 4      England  Australia  Winner2ndInning   \n",
       "4           4   ODI # 5  New Zealand   Pakistan  Winner1stInning   \n",
       "\n",
       "         Ground    Match Date       Winner Host_Country Venue_Team1  \\\n",
       "0     Melbourne   Jan 5, 1971    Australia    Australia        Home   \n",
       "1    Manchester  Aug 24, 1972      England      England        Home   \n",
       "2        Lord's  Aug 26, 1972    Australia      England        Home   \n",
       "3    Birmingham  Aug 28, 1972      England      England        Home   \n",
       "4  Christchurch  Feb 11, 1973  New Zealand  New Zealand        Home   \n",
       "\n",
       "  Venue_Team2 Innings_Team1 Innings_Team2  \n",
       "0        Away        Second         First  \n",
       "1        Away        Second         First  \n",
       "2        Away         First        Second  \n",
       "3        Away        Second         First  \n",
       "4        Away         First        Second  "
      ]
     },
     "execution_count": 134,
     "metadata": {},
     "output_type": "execute_result"
    }
   ],
   "source": [
    "#reading the data\n",
    "df = pd.read_csv(\"./ContinousDataset.csv\")\n",
    "print(df.shape)\n",
    "df.head()"
   ]
  },
  {
   "cell_type": "code",
   "execution_count": 135,
   "metadata": {
    "ExecuteTime": {
     "end_time": "2019-06-07T17:13:04.497635Z",
     "start_time": "2019-06-07T17:13:04.475179Z"
    },
    "collapsed": true
   },
   "outputs": [
    {
     "data": {
      "text/plain": [
       "Unnamed: 0         0\n",
       "Scorecard          0\n",
       "Team 1             0\n",
       "Team 2             0\n",
       "Margin             0\n",
       "Ground             0\n",
       "Match Date         0\n",
       "Winner             0\n",
       "Host_Country     130\n",
       "Venue_Team1        0\n",
       "Venue_Team2        0\n",
       "Innings_Team1      0\n",
       "Innings_Team2      0\n",
       "dtype: int64"
      ]
     },
     "execution_count": 135,
     "metadata": {},
     "output_type": "execute_result"
    }
   ],
   "source": [
    "#checking for Null Values\n",
    "df.isnull().sum()"
   ]
  },
  {
   "cell_type": "code",
   "execution_count": 138,
   "metadata": {
    "ExecuteTime": {
     "end_time": "2019-06-07T17:14:12.499225Z",
     "start_time": "2019-06-07T17:14:12.487458Z"
    }
   },
   "outputs": [],
   "source": [
    "#dropping useless columns\n",
    "df.drop([\"Scorecard\", \"Unnamed: 0\"], axis=1, inplace=True)\n",
    "#taking samples of India matches only\n",
    "df = df[(df[\"Team 1\"]==\"India\") | (df[\"Team 2\"]==\"India\")]"
   ]
  },
  {
   "cell_type": "code",
   "execution_count": 139,
   "metadata": {
    "ExecuteTime": {
     "end_time": "2019-06-07T17:14:34.036441Z",
     "start_time": "2019-06-07T17:14:34.002819Z"
    },
    "collapsed": true
   },
   "outputs": [
    {
     "data": {
      "text/html": [
       "<div>\n",
       "<style scoped>\n",
       "    .dataframe tbody tr th:only-of-type {\n",
       "        vertical-align: middle;\n",
       "    }\n",
       "\n",
       "    .dataframe tbody tr th {\n",
       "        vertical-align: top;\n",
       "    }\n",
       "\n",
       "    .dataframe thead th {\n",
       "        text-align: right;\n",
       "    }\n",
       "</style>\n",
       "<table border=\"1\" class=\"dataframe\">\n",
       "  <thead>\n",
       "    <tr style=\"text-align: right;\">\n",
       "      <th></th>\n",
       "      <th>Team 1</th>\n",
       "      <th>Team 2</th>\n",
       "      <th>Margin</th>\n",
       "      <th>Ground</th>\n",
       "      <th>Match Date</th>\n",
       "      <th>Winner</th>\n",
       "      <th>Host_Country</th>\n",
       "      <th>Venue_Team1</th>\n",
       "      <th>Venue_Team2</th>\n",
       "      <th>Innings_Team1</th>\n",
       "      <th>Innings_Team2</th>\n",
       "    </tr>\n",
       "  </thead>\n",
       "  <tbody>\n",
       "    <tr>\n",
       "      <th>0</th>\n",
       "      <td>England</td>\n",
       "      <td>India</td>\n",
       "      <td>Winner2ndInning</td>\n",
       "      <td>Leeds</td>\n",
       "      <td>Jul 13, 1974</td>\n",
       "      <td>England</td>\n",
       "      <td>England</td>\n",
       "      <td>Home</td>\n",
       "      <td>Away</td>\n",
       "      <td>Second</td>\n",
       "      <td>First</td>\n",
       "    </tr>\n",
       "    <tr>\n",
       "      <th>1</th>\n",
       "      <td>England</td>\n",
       "      <td>India</td>\n",
       "      <td>Winner2ndInning</td>\n",
       "      <td>The Oval</td>\n",
       "      <td>Jul 15-16, 1974</td>\n",
       "      <td>England</td>\n",
       "      <td>England</td>\n",
       "      <td>Home</td>\n",
       "      <td>Away</td>\n",
       "      <td>Second</td>\n",
       "      <td>First</td>\n",
       "    </tr>\n",
       "    <tr>\n",
       "      <th>2</th>\n",
       "      <td>England</td>\n",
       "      <td>India</td>\n",
       "      <td>Winner1stInning</td>\n",
       "      <td>Lord's</td>\n",
       "      <td>Jun 7, 1975</td>\n",
       "      <td>England</td>\n",
       "      <td>England</td>\n",
       "      <td>Home</td>\n",
       "      <td>Away</td>\n",
       "      <td>First</td>\n",
       "      <td>Second</td>\n",
       "    </tr>\n",
       "    <tr>\n",
       "      <th>3</th>\n",
       "      <td>East Africa</td>\n",
       "      <td>India</td>\n",
       "      <td>Winner2ndInning</td>\n",
       "      <td>Leeds</td>\n",
       "      <td>Jun 11, 1975</td>\n",
       "      <td>India</td>\n",
       "      <td>England</td>\n",
       "      <td>Neutral</td>\n",
       "      <td>Neutral</td>\n",
       "      <td>First</td>\n",
       "      <td>Second</td>\n",
       "    </tr>\n",
       "    <tr>\n",
       "      <th>4</th>\n",
       "      <td>India</td>\n",
       "      <td>New Zealand</td>\n",
       "      <td>Winner2ndInning</td>\n",
       "      <td>Manchester</td>\n",
       "      <td>Jun 14, 1975</td>\n",
       "      <td>New Zealand</td>\n",
       "      <td>England</td>\n",
       "      <td>Neutral</td>\n",
       "      <td>Neutral</td>\n",
       "      <td>First</td>\n",
       "      <td>Second</td>\n",
       "    </tr>\n",
       "  </tbody>\n",
       "</table>\n",
       "</div>"
      ],
      "text/plain": [
       "        Team 1       Team 2           Margin      Ground       Match Date  \\\n",
       "0      England        India  Winner2ndInning       Leeds     Jul 13, 1974   \n",
       "1      England        India  Winner2ndInning    The Oval  Jul 15-16, 1974   \n",
       "2      England        India  Winner1stInning      Lord's      Jun 7, 1975   \n",
       "3  East Africa        India  Winner2ndInning       Leeds     Jun 11, 1975   \n",
       "4        India  New Zealand  Winner2ndInning  Manchester     Jun 14, 1975   \n",
       "\n",
       "        Winner Host_Country Venue_Team1 Venue_Team2 Innings_Team1  \\\n",
       "0      England      England        Home        Away        Second   \n",
       "1      England      England        Home        Away        Second   \n",
       "2      England      England        Home        Away         First   \n",
       "3        India      England     Neutral     Neutral         First   \n",
       "4  New Zealand      England     Neutral     Neutral         First   \n",
       "\n",
       "  Innings_Team2  \n",
       "0         First  \n",
       "1         First  \n",
       "2        Second  \n",
       "3        Second  \n",
       "4        Second  "
      ]
     },
     "execution_count": 139,
     "metadata": {},
     "output_type": "execute_result"
    }
   ],
   "source": [
    "#resetting the index\n",
    "df.reset_index(drop=True, inplace=True)\n",
    "df.head()"
   ]
  },
  {
   "cell_type": "markdown",
   "metadata": {},
   "source": [
    "# India win/lose% home and away"
   ]
  },
  {
   "cell_type": "code",
   "execution_count": 144,
   "metadata": {
    "ExecuteTime": {
     "end_time": "2019-06-07T17:17:01.567392Z",
     "start_time": "2019-06-07T17:17:01.559707Z"
    }
   },
   "outputs": [
    {
     "name": "stdout",
     "output_type": "stream",
     "text": [
      "Win: 53.97727272727273\n",
      "Lose: 46.02272727272727\n"
     ]
    }
   ],
   "source": [
    "#calculating India win/lose percent\n",
    "win = (df.Winner==\"India\").mean()*100\n",
    "lose = 100-win\n",
    "print(f\"Win: {win}\\nLose: {lose}\")"
   ]
  },
  {
   "cell_type": "code",
   "execution_count": 145,
   "metadata": {
    "ExecuteTime": {
     "end_time": "2019-06-07T17:17:04.865077Z",
     "start_time": "2019-06-07T17:17:04.734871Z"
    }
   },
   "outputs": [
    {
     "data": {
      "image/png": "[encoded data removed]",
      "text/plain": [
       "<Figure size 432x288 with 1 Axes>"
      ]
     },
     "metadata": {},
     "output_type": "display_data"
    }
   ],
   "source": [
    "plt.pie(x = [win, lose],\n",
    "        labels=[\"Win\", \"Lose\"],\n",
    "        colors=[(0,1,0.2,1), (1,0,0.2,1)],\n",
    "        explode=[0,0.1],\n",
    "        shadow=True,\n",
    "        startangle=90,\n",
    "        autopct='%1.1f%%'\n",
    "       )\n",
    "plt.axis('equal')\n",
    "plt.title(\"India total win vs lose\")\n",
    "plt.show()"
   ]
  },
  {
   "cell_type": "code",
   "execution_count": 148,
   "metadata": {
    "ExecuteTime": {
     "end_time": "2019-06-07T17:19:18.048979Z",
     "start_time": "2019-06-07T17:19:18.029938Z"
    }
   },
   "outputs": [
    {
     "name": "stdout",
     "output_type": "stream",
     "text": [
      "Win at Home:60.67796610169491%\n",
      "Lose at home:39.32203389830509%\n"
     ]
    }
   ],
   "source": [
    "#win/lose at home\n",
    "win_at_home = (df[df[\"Host_Country\"]==\"India\"].Winner==\"India\").mean()*100\n",
    "lose_at_home = 100-win_at_home\n",
    "print(f\"Win at Home:{win_at_home}%\\nLose at home:{lose_at_home}%\")"
   ]
  },
  {
   "cell_type": "code",
   "execution_count": 149,
   "metadata": {
    "ExecuteTime": {
     "end_time": "2019-06-07T17:19:18.336412Z",
     "start_time": "2019-06-07T17:19:18.191771Z"
    }
   },
   "outputs": [
    {
     "data": {
      "image/png": "[encoded data removed]",
      "text/plain": [
       "<Figure size 432x288 with 1 Axes>"
      ]
     },
     "metadata": {},
     "output_type": "display_data"
    }
   ],
   "source": [
    "plt.pie(x = [win_at_home, lose_at_home],\n",
    "        labels=[\"Win\", \"Lose\"],\n",
    "        colors=[(0,1,0.2,1), (1,0,0.2,1)],\n",
    "        explode=[0,0.1],\n",
    "        shadow=True,\n",
    "        startangle=90,\n",
    "        autopct='%1.1f%%'\n",
    "       )\n",
    "plt.axis('equal')\n",
    "plt.title(\"India total win vs lose at home\")\n",
    "plt.show()"
   ]
  },
  {
   "cell_type": "code",
   "execution_count": 151,
   "metadata": {
    "ExecuteTime": {
     "end_time": "2019-06-07T17:20:37.222912Z",
     "start_time": "2019-06-07T17:20:37.209973Z"
    }
   },
   "outputs": [
    {
     "name": "stdout",
     "output_type": "stream",
     "text": [
      "Away Win:50.598290598290596%\n",
      "Away Lose:49.401709401709404%\n"
     ]
    }
   ],
   "source": [
    "win_away = (df[df[\"Host_Country\"]!=\"India\"].Winner==\"India\").mean()*100\n",
    "lose_away = 100-win_away\n",
    "print(f\"Away Win:{win_away}%\\nAway Lose:{lose_away}%\")"
   ]
  },
  {
   "cell_type": "code",
   "execution_count": 152,
   "metadata": {
    "ExecuteTime": {
     "end_time": "2019-06-07T17:20:40.997012Z",
     "start_time": "2019-06-07T17:20:40.864389Z"
    }
   },
   "outputs": [
    {
     "data": {
      "image/png": "[encoded data removed]",
      "text/plain": [
       "<Figure size 432x288 with 1 Axes>"
      ]
     },
     "metadata": {},
     "output_type": "display_data"
    }
   ],
   "source": [
    "plt.pie(x = [win_away, lose_away],\n",
    "        labels=[\"Win\", \"Lose\"],\n",
    "        colors=[(0,1,0.2,1), (1,0,0.2,1)],\n",
    "        explode=[0,0.1],\n",
    "        shadow=True,\n",
    "        startangle=90,\n",
    "        autopct='%1.1f%%'\n",
    "       )\n",
    "plt.axis('equal')\n",
    "plt.title(\"India total win vs lose away from home\")\n",
    "plt.show()"
   ]
  },
  {
   "cell_type": "markdown",
   "metadata": {},
   "source": [
    "# Inference:\n",
    "* Overall India win more matches than it loses.\n",
    "* The performance of India is better at home.\n",
    "* India wins one of its two matches in away conditions."
   ]
  },
  {
   "cell_type": "markdown",
   "metadata": {},
   "source": [
    "# Matches against various countries"
   ]
  },
  {
   "cell_type": "code",
   "execution_count": 154,
   "metadata": {
    "ExecuteTime": {
     "end_time": "2019-06-07T17:25:45.573824Z",
     "start_time": "2019-06-07T17:25:45.506022Z"
    },
    "collapsed": true
   },
   "outputs": [
    {
     "name": "stderr",
     "output_type": "stream",
     "text": [
      "/usr/local/lib/python3.6/dist-packages/ipykernel_launcher.py:8: SettingWithCopyWarning: \n",
      "A value is trying to be set on a copy of a slice from a DataFrame.\n",
      "Try using .loc[row_indexer,col_indexer] = value instead\n",
      "\n",
      "See the caveats in the documentation: http://pandas.pydata.org/pandas-docs/stable/indexing.html#indexing-view-versus-copy\n",
      "  \n"
     ]
    }
   ],
   "source": [
    "#adding a column for opposite team\n",
    "opp = []\n",
    "for i in df.itertuples():\n",
    "    if i._1==\"India\":\n",
    "        opp.append(i._2)\n",
    "    else:\n",
    "        opp.append(i._1)\n",
    "df['opp'] = opp"
   ]
  },
  {
   "cell_type": "code",
   "execution_count": 266,
   "metadata": {
    "ExecuteTime": {
     "end_time": "2019-06-07T20:48:44.001082Z",
     "start_time": "2019-06-07T20:48:43.548852Z"
    }
   },
   "outputs": [
    {
     "data": {
      "image/png": "[encoded data removed]",
      "text/plain": [
       "<Figure size 720x432 with 1 Axes>"
      ]
     },
     "metadata": {},
     "output_type": "display_data"
    }
   ],
   "source": [
    "#number of matches\n",
    "df.opp.value_counts().plot(kind=\"bar\",title=\"Number of Matches against various teams\", figsize=(10,6), width=0.7)\n",
    "plt.ylabel(\"No. of Matchs\")\n",
    "plt.show()"
   ]
  },
  {
   "cell_type": "code",
   "execution_count": 158,
   "metadata": {
    "ExecuteTime": {
     "end_time": "2019-06-07T17:27:06.531109Z",
     "start_time": "2019-06-07T17:27:06.464735Z"
    },
    "collapsed": true
   },
   "outputs": [
    {
     "name": "stderr",
     "output_type": "stream",
     "text": [
      "/usr/local/lib/python3.6/dist-packages/ipykernel_launcher.py:5: SettingWithCopyWarning: \n",
      "A value is trying to be set on a copy of a slice from a DataFrame.\n",
      "Try using .loc[row_indexer,col_indexer] = value instead\n",
      "\n",
      "See the caveats in the documentation: http://pandas.pydata.org/pandas-docs/stable/indexing.html#indexing-view-versus-copy\n",
      "  \"\"\"\n"
     ]
    }
   ],
   "source": [
    "#Getting countries with at-least 10 matches\n",
    "temp = df.opp.value_counts()\n",
    "countries = np.array(temp[temp>10].index)\n",
    "#making a new bool column for India win\n",
    "df[\"India_win\"] = [True if i.Winner==\"India\" else False for i in df.itertuples()]"
   ]
  },
  {
   "cell_type": "code",
   "execution_count": 159,
   "metadata": {
    "ExecuteTime": {
     "end_time": "2019-06-07T17:27:23.838024Z",
     "start_time": "2019-06-07T17:27:23.467261Z"
    }
   },
   "outputs": [
    {
     "data": {
      "image/png": "[encoded data removed]",
      "text/plain": [
       "<Figure size 504x504 with 1 Axes>"
      ]
     },
     "metadata": {},
     "output_type": "display_data"
    }
   ],
   "source": [
    "win_percent = df.groupby('opp').India_win.mean()*100\n",
    "win_percent = round(win_percent,1)\n",
    "fig, ax = plt.subplots(figsize=(7,7))\n",
    "ax.bar(countries, win_percent[countries], color=\"blue\", width=0.8)\n",
    "for i, v in enumerate(win_percent[countries]):\n",
    "    ax.text(i-0.3, v + 3, str(v), color='blue', fontweight='bold')\n",
    "plt.title(\"India Win% against various countries (at least 10 matches played)\")\n",
    "plt.ylabel(\"Win%\")\n",
    "plt.ylim(0,100)\n",
    "plt.xticks(rotation=\"vertical\")\n",
    "plt.show()"
   ]
  },
  {
   "cell_type": "markdown",
   "metadata": {
    "ExecuteTime": {
     "end_time": "2019-06-07T16:45:08.856510Z",
     "start_time": "2019-06-07T16:45:08.844068Z"
    }
   },
   "source": [
    "# Inference\n",
    "* India has played most matches with its neighbour countries (Sri Lanka and Pakistan)\n",
    "* India has the lowest win % against Australia"
   ]
  },
  {
   "cell_type": "markdown",
   "metadata": {},
   "source": [
    "# Cricket Grounds"
   ]
  },
  {
   "cell_type": "code",
   "execution_count": 164,
   "metadata": {
    "ExecuteTime": {
     "end_time": "2019-06-07T20:08:35.358536Z",
     "start_time": "2019-06-07T20:08:35.311590Z"
    },
    "collapsed": true
   },
   "outputs": [
    {
     "data": {
      "text/html": [
       "<div>\n",
       "<style scoped>\n",
       "    .dataframe tbody tr th:only-of-type {\n",
       "        vertical-align: middle;\n",
       "    }\n",
       "\n",
       "    .dataframe tbody tr th {\n",
       "        vertical-align: top;\n",
       "    }\n",
       "\n",
       "    .dataframe thead th {\n",
       "        text-align: right;\n",
       "    }\n",
       "</style>\n",
       "<table border=\"1\" class=\"dataframe\">\n",
       "  <thead>\n",
       "    <tr style=\"text-align: right;\">\n",
       "      <th></th>\n",
       "      <th>Team 1</th>\n",
       "      <th>Team 2</th>\n",
       "      <th>Margin</th>\n",
       "      <th>Ground</th>\n",
       "      <th>Match Date</th>\n",
       "      <th>Winner</th>\n",
       "      <th>Host_Country</th>\n",
       "      <th>Venue_Team1</th>\n",
       "      <th>Venue_Team2</th>\n",
       "      <th>Innings_Team1</th>\n",
       "      <th>Innings_Team2</th>\n",
       "      <th>opp</th>\n",
       "      <th>India_win</th>\n",
       "    </tr>\n",
       "  </thead>\n",
       "  <tbody>\n",
       "    <tr>\n",
       "      <th>0</th>\n",
       "      <td>England</td>\n",
       "      <td>India</td>\n",
       "      <td>Winner2ndInning</td>\n",
       "      <td>Leeds</td>\n",
       "      <td>Jul 13, 1974</td>\n",
       "      <td>England</td>\n",
       "      <td>England</td>\n",
       "      <td>Home</td>\n",
       "      <td>Away</td>\n",
       "      <td>Second</td>\n",
       "      <td>First</td>\n",
       "      <td>England</td>\n",
       "      <td>False</td>\n",
       "    </tr>\n",
       "    <tr>\n",
       "      <th>1</th>\n",
       "      <td>England</td>\n",
       "      <td>India</td>\n",
       "      <td>Winner2ndInning</td>\n",
       "      <td>The Oval</td>\n",
       "      <td>Jul 15-16, 1974</td>\n",
       "      <td>England</td>\n",
       "      <td>England</td>\n",
       "      <td>Home</td>\n",
       "      <td>Away</td>\n",
       "      <td>Second</td>\n",
       "      <td>First</td>\n",
       "      <td>England</td>\n",
       "      <td>False</td>\n",
       "    </tr>\n",
       "    <tr>\n",
       "      <th>2</th>\n",
       "      <td>England</td>\n",
       "      <td>India</td>\n",
       "      <td>Winner1stInning</td>\n",
       "      <td>Lord's</td>\n",
       "      <td>Jun 7, 1975</td>\n",
       "      <td>England</td>\n",
       "      <td>England</td>\n",
       "      <td>Home</td>\n",
       "      <td>Away</td>\n",
       "      <td>First</td>\n",
       "      <td>Second</td>\n",
       "      <td>England</td>\n",
       "      <td>False</td>\n",
       "    </tr>\n",
       "    <tr>\n",
       "      <th>3</th>\n",
       "      <td>East Africa</td>\n",
       "      <td>India</td>\n",
       "      <td>Winner2ndInning</td>\n",
       "      <td>Leeds</td>\n",
       "      <td>Jun 11, 1975</td>\n",
       "      <td>India</td>\n",
       "      <td>England</td>\n",
       "      <td>Neutral</td>\n",
       "      <td>Neutral</td>\n",
       "      <td>First</td>\n",
       "      <td>Second</td>\n",
       "      <td>East Africa</td>\n",
       "      <td>True</td>\n",
       "    </tr>\n",
       "    <tr>\n",
       "      <th>4</th>\n",
       "      <td>India</td>\n",
       "      <td>New Zealand</td>\n",
       "      <td>Winner2ndInning</td>\n",
       "      <td>Manchester</td>\n",
       "      <td>Jun 14, 1975</td>\n",
       "      <td>New Zealand</td>\n",
       "      <td>England</td>\n",
       "      <td>Neutral</td>\n",
       "      <td>Neutral</td>\n",
       "      <td>First</td>\n",
       "      <td>Second</td>\n",
       "      <td>New Zealand</td>\n",
       "      <td>False</td>\n",
       "    </tr>\n",
       "  </tbody>\n",
       "</table>\n",
       "</div>"
      ],
      "text/plain": [
       "        Team 1       Team 2           Margin      Ground       Match Date  \\\n",
       "0      England        India  Winner2ndInning       Leeds     Jul 13, 1974   \n",
       "1      England        India  Winner2ndInning    The Oval  Jul 15-16, 1974   \n",
       "2      England        India  Winner1stInning      Lord's      Jun 7, 1975   \n",
       "3  East Africa        India  Winner2ndInning       Leeds     Jun 11, 1975   \n",
       "4        India  New Zealand  Winner2ndInning  Manchester     Jun 14, 1975   \n",
       "\n",
       "        Winner Host_Country Venue_Team1 Venue_Team2 Innings_Team1  \\\n",
       "0      England      England        Home        Away        Second   \n",
       "1      England      England        Home        Away        Second   \n",
       "2      England      England        Home        Away         First   \n",
       "3        India      England     Neutral     Neutral         First   \n",
       "4  New Zealand      England     Neutral     Neutral         First   \n",
       "\n",
       "  Innings_Team2          opp  India_win  \n",
       "0         First      England      False  \n",
       "1         First      England      False  \n",
       "2        Second      England      False  \n",
       "3        Second  East Africa       True  \n",
       "4        Second  New Zealand      False  "
      ]
     },
     "execution_count": 164,
     "metadata": {},
     "output_type": "execute_result"
    }
   ],
   "source": [
    "df.head()"
   ]
  },
  {
   "cell_type": "code",
   "execution_count": 243,
   "metadata": {
    "ExecuteTime": {
     "end_time": "2019-06-07T20:37:35.316043Z",
     "start_time": "2019-06-07T20:37:35.291940Z"
    }
   },
   "outputs": [],
   "source": [
    "top_home_grounds = df[df.Host_Country=='India'].Ground.value_counts()[:10].index\n",
    "home_ground_win = (df[df.Host_Country=='India'].groupby(\"Ground\").India_win.mean()*100)[top_home_grounds]\n",
    "home_ground_win = round(home_ground_win,2)\n",
    "home_ground_lose = round(100-home_ground_win,2)"
   ]
  },
  {
   "cell_type": "code",
   "execution_count": 256,
   "metadata": {
    "ExecuteTime": {
     "end_time": "2019-06-07T20:41:55.475709Z",
     "start_time": "2019-06-07T20:41:55.006226Z"
    }
   },
   "outputs": [
    {
     "data": {
      "image/png": "[encoded data removed]",
      "text/plain": [
       "<Figure size 720x432 with 1 Axes>"
      ]
     },
     "metadata": {},
     "output_type": "display_data"
    }
   ],
   "source": [
    "fig, ax = plt.subplots(figsize=(10,6))\n",
    "ax.bar(home_ground_win.index, home_ground_win.values, color=(0,0.8,0,0.6), width=0.8, label=\"Win\")\n",
    "ax.bar(home_ground_lose.index, home_ground_lose.values, color=(1,0,0,0.8), width=0.8, bottom=home_ground_win.values, label=\"Lose\")\n",
    "for i, v in enumerate(home_ground_win.values):\n",
    "    ax.text(i-0.3, v-5, str(v), color=\"black\", fontweight='bold')\n",
    "plt.title(\"India Win/Lose % at home grounds\")\n",
    "plt.ylabel(\"%\")\n",
    "plt.legend()\n",
    "plt.ylim(0,120)\n",
    "plt.xticks(rotation=\"vertical\")\n",
    "plt.show()"
   ]
  },
  {
   "cell_type": "code",
   "execution_count": 257,
   "metadata": {
    "ExecuteTime": {
     "end_time": "2019-06-07T20:43:02.063563Z",
     "start_time": "2019-06-07T20:43:02.043195Z"
    }
   },
   "outputs": [],
   "source": [
    "top_away_grounds = df[df.Host_Country!='India'].Ground.value_counts()[:10].index\n",
    "away_ground_win = (df[df.Host_Country!='India'].groupby(\"Ground\").India_win.mean()*100)[top_away_grounds]\n",
    "away_ground_win = round(away_ground_win,2)\n",
    "away_ground_lose = round(100-away_ground_win,2)"
   ]
  },
  {
   "cell_type": "code",
   "execution_count": 258,
   "metadata": {
    "ExecuteTime": {
     "end_time": "2019-06-07T20:44:00.316965Z",
     "start_time": "2019-06-07T20:43:59.827271Z"
    }
   },
   "outputs": [
    {
     "data": {
      "image/png": "[encoded data removed]",
      "text/plain": [
       "<Figure size 720x432 with 1 Axes>"
      ]
     },
     "metadata": {},
     "output_type": "display_data"
    }
   ],
   "source": [
    "fig, ax = plt.subplots(figsize=(10,6))\n",
    "ax.bar(away_ground_win.index, away_ground_win.values, color=(0,0.8,0,0.6), width=0.8, label=\"Win\")\n",
    "ax.bar(away_ground_lose.index, away_ground_lose.values, color=(1,0,0,0.8), width=0.8, bottom=away_ground_win.values, label=\"Lose\")\n",
    "for i, v in enumerate(away_ground_win.values):\n",
    "    ax.text(i-0.3, v-5, str(v), color=\"black\", fontweight='bold')\n",
    "plt.title(\"India Win/Lose % at away grounds\")\n",
    "plt.ylabel(\"%\")\n",
    "plt.legend()\n",
    "plt.ylim(0,120)\n",
    "plt.xticks(rotation=\"vertical\")\n",
    "plt.show()"
   ]
  },
  {
   "cell_type": "code",
   "execution_count": 273,
   "metadata": {
    "ExecuteTime": {
     "end_time": "2019-06-07T20:57:24.609023Z",
     "start_time": "2019-06-07T20:57:24.094200Z"
    }
   },
   "outputs": [
    {
     "data": {
      "image/png": "[encoded data removed]",
      "text/plain": [
       "<Figure size 720x432 with 1 Axes>"
      ]
     },
     "metadata": {},
     "output_type": "display_data"
    }
   ],
   "source": [
    "country_win = df.groupby(\"Host_Country\").India_win.mean()*100\n",
    "country_win = round(country_win,1)\n",
    "fig, ax = plt.subplots(figsize=(10,6))\n",
    "ax.bar(country_win.index, country_win.values, color=(0,0.8,0,0.6), width=0.8)\n",
    "for i, v in enumerate(country_win.values):\n",
    "    ax.text(i-0.4, v+1, str(v), color='black', fontweight='bold')\n",
    "plt.title(\"India Win% in various countries\")\n",
    "plt.ylabel(\"Win%\")\n",
    "plt.ylim(0,120)\n",
    "plt.xticks(rotation=\"vertical\")\n",
    "plt.show()"
   ]
  },
  {
   "cell_type": "markdown",
   "metadata": {},
   "source": [
    "# Inference\n",
    "* At home, India has the best win % at Bengaluru and Cuttack Stadiums\n",
    "* Outside home, India has best track record in Harare and Dhaka\n",
    "* India perform very poorly when playing in South Africa and New Zealand"
   ]
  },
  {
   "cell_type": "code",
   "execution_count": null,
   "metadata": {},
   "outputs": [],
   "source": []
  }
 ],
 "metadata": {
  "kernelspec": {
   "display_name": "Python 3",
   "language": "python",
   "name": "python3"
  },
  "language_info": {
   "codemirror_mode": {
    "name": "ipython",
    "version": 3
   },
   "file_extension": ".py",
   "mimetype": "text/x-python",
   "name": "python",
   "nbconvert_exporter": "python",
   "pygments_lexer": "ipython3",
   "version": "3.6.7"
  }
 },
 "nbformat": 4,
 "nbformat_minor": 2
}
